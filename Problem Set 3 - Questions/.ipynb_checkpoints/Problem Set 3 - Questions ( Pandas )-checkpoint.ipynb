{
 "cells": [
  {
   "cell_type": "markdown",
   "id": "72bc22ba",
   "metadata": {},
   "source": [
    "<div class=\"alert alert-block alert-info\">\n",
    "    <b><p style=\"font-size: XX-large\">Problem 1:   Constructing Pandas Objects</p></b> </div>"
   ]
  },
  {
   "cell_type": "markdown",
   "id": "bb53087a",
   "metadata": {},
   "source": [
    "In this problem, you will create two simple pandas objects.\n",
    "\n",
    "1. Create a pandas Series object with indices given by the first 10 letters of the English\n",
    "alphabet and values given by the first 10 primes.\n",
    "\n",
    "\n",
    "\n",
    "2. Below is a table that might arise in a genetics experiment. Reconstruct this as a\n",
    "pandas DataFrame.\n",
    "<img src = \"Files/exp.jpg\" width = \"300\">"
   ]
  },
  {
   "cell_type": "markdown",
   "id": "f3b05f3e",
   "metadata": {},
   "source": [
    "---"
   ]
  },
  {
   "cell_type": "markdown",
   "id": "75c488fc",
   "metadata": {},
   "source": [
    "<div class=\"alert alert-block alert-info\">\n",
    "    <b><p style=\"font-size: XX-large\">Problem 2:   Data cleaning 🧽 & Data Wrangling </p></b> </div>"
   ]
  },
  {
   "cell_type": "markdown",
   "id": "421c5285",
   "metadata": {},
   "source": [
    "1.  Create the following data frame. Find the number of unique values from the df dataset \"col2\"\n",
    "\n",
    "<img src = \"Files/datawrang.jpg\" width = \"150\">.\n",
    "\n",
    "\n",
    "2. Create a simple function and use pd.apply() to double the value in \"col1\".\n",
    "\n",
    "\n",
    "3. Permanently remove \"col1\" from df dataframe.\n",
    "\n",
    "\n",
    "4.  Fill the NA value in col3 with \"FILL\".\n",
    "\n",
    "\n",
    "5. For a new dataset \"data\" below, create a pivot table. Set columns \"A\" and \"B\" as hierarchical index, and used column \"C\" to create the columns of the pivot table.\n",
    "<img src = \"Files/piv.jpg\" width = \"150\">"
   ]
  },
  {
   "cell_type": "markdown",
   "id": "d5bdfdf7",
   "metadata": {},
   "source": [
    "---"
   ]
  },
  {
   "cell_type": "markdown",
   "id": "6946b931",
   "metadata": {},
   "source": [
    "<div class=\"alert alert-block alert-info\">\n",
    "    <b><p style=\"font-size: XX-large\">Problem 3:  Diamond </p></b> </div>"
   ]
  },
  {
   "cell_type": "markdown",
   "id": "da20b3bc",
   "metadata": {},
   "source": [
    "1. Download the \"diamonds.csv\" from <a href = \"https://www.dropbox.com/s/fyv99d2uor0gbje/diamonds.csv?dl=0\"> here</a>, load and read the file. Use hash symbol, `#`, and briefly explain the data set and the meaning of each column. \n",
    "\n",
    "\n",
    "2. Drop columns x, y, z from the diamonds dataset\n",
    "\n",
    "\n",
    "\n",
    "3. Here is a new dataframe called \"additional_info\", combine this new dataframe with the diamonds dataframe based on the \"cut\" column.\n",
    "<img src= \"Files/additional.jpg\" width = \"200\">\n",
    "Use comments and briefly explain the new columns.\n",
    "\n",
    "\n",
    "\n",
    "\n",
    "4. Calculate the average price of diamonds based on their clarity.\n",
    "\n",
    "\n",
    "\n",
    "5. Select all the rows which satisfy the following requirements: \"carat > 3, cut=Premium, color=J\""
   ]
  },
  {
   "cell_type": "markdown",
   "id": "e131f710",
   "metadata": {},
   "source": [
    "---"
   ]
  },
  {
   "cell_type": "markdown",
   "id": "5c05c61e",
   "metadata": {},
   "source": [
    "<div class=\"alert alert-block alert-info\">\n",
    "    <b><p style=\"font-size: XX-large\">Problem 4:  Titanic </p></b> </div>"
   ]
  },
  {
   "cell_type": "markdown",
   "id": "149426ca",
   "metadata": {},
   "source": [
    "1. Download the \"titanic.csv\" from <a href = \"https://www.dropbox.com/s/xigls3lkvv6qbwe/titanic.csv?dl=0\">here</a>, load and read the file. Use hash symbol, `#`, and briefly explain the data set and the meaning of each column.\n",
    "\n",
    "\n",
    "2. Sort the dataset by column index in ascending order.\n",
    "\n",
    "\n",
    "3. Sort the titanic dataset by the 'fare' column in descending order.\n",
    "\n",
    "\n",
    "4. What are the three highest unique fares paid on the Titanic?\n",
    "\n",
    "\n",
    "5. Define two new data frames:\n",
    "    1. df1 that consists of three columns 'class', 'age' and 'sex'\n",
    "    2. df2 consists of three columns 'embark_town', 'fare' and 'alone'.\n",
    "    \n",
    "    Use one line of code in pandas to combine the 2 dataframes (df1 and df2), sort it by column 'age' in ascending order, and print out the result."
   ]
  },
  {
   "cell_type": "markdown",
   "id": "460e9436",
   "metadata": {},
   "source": [
    "---"
   ]
  },
  {
   "cell_type": "markdown",
   "id": "f4a2ae86",
   "metadata": {},
   "source": [
    "<div class=\"alert alert-block alert-info\">\n",
    "    <b><p style=\"font-size: XX-large\">Problem 5:   SF Salaries</p></b> </div>"
   ]
  },
  {
   "cell_type": "markdown",
   "id": "26ab662f",
   "metadata": {},
   "source": [
    "1.  You will be using the [SF Salaries Dataset](https://www.kaggle.com/kaggle/sf-salaries) from Kaggle! download, load, and read the file. Use hash symbol, #, and briefly explain the data set and the meaning of each column.\n",
    "\n",
    "\n",
    "2. Use the `.info()` method to find out how many entries there are.\n",
    "\n",
    "\n",
    "3. What is the average BasePay ?\n",
    "\n",
    "\n",
    "4. What is the highest amount of OvertimePay in the dataset ?\n",
    "\n",
    "\n",
    "5. What is the job title of JOSEPH DRISCOLL ? Note: Use all caps, otherwise you may get an answer that doesn't match up (there is also a lowercase Joseph Driscoll). \n",
    "\n",
    "\n",
    "6. How much does JOSEPH DRISCOLL make (including benefits)?\n",
    "\n",
    "\n",
    "7. What is the name of highest paid person (including benefits)?\n",
    "\n",
    "\n",
    "8. What is the name of lowest paid person (including benefits)? Do you notice something strange about how much he or she is paid?\n",
    "\n",
    "\n",
    "9. What was the average (mean) BasePay of all employees per year? (2011-2014) ?\n",
    "\n",
    "\n",
    "10. How many unique job titles are there? \n",
    "\n",
    "\n",
    "11. What are the top 5 most common jobs?\n",
    "\n",
    "\n",
    "12.  How many Job Titles were represented by only one person in 2013? (e.g. Job Titles with only one occurrence in 2013?)\n",
    "\n",
    "\n",
    "13. How many people have the word Chief in their job title? (This is pretty tricky)\n",
    "\n",
    "\n",
    "14. Is there a correlation between length of the Job Title string and Salary?"
   ]
  },
  {
   "cell_type": "markdown",
   "id": "7bcd1ff5",
   "metadata": {},
   "source": [
    "---"
   ]
  },
  {
   "cell_type": "markdown",
   "id": "c750d564",
   "metadata": {},
   "source": [
    "# Done!"
   ]
  }
 ],
 "metadata": {
  "kernelspec": {
   "display_name": "Python 3 (ipykernel)",
   "language": "python",
   "name": "python3"
  },
  "language_info": {
   "codemirror_mode": {
    "name": "ipython",
    "version": 3
   },
   "file_extension": ".py",
   "mimetype": "text/x-python",
   "name": "python",
   "nbconvert_exporter": "python",
   "pygments_lexer": "ipython3",
   "version": "3.10.6"
  },
  "toc": {
   "base_numbering": 1,
   "nav_menu": {},
   "number_sections": true,
   "sideBar": true,
   "skip_h1_title": true,
   "title_cell": "Table of Contents",
   "title_sidebar": "Contents",
   "toc_cell": false,
   "toc_position": {},
   "toc_section_display": true,
   "toc_window_display": false
  }
 },
 "nbformat": 4,
 "nbformat_minor": 5
}
